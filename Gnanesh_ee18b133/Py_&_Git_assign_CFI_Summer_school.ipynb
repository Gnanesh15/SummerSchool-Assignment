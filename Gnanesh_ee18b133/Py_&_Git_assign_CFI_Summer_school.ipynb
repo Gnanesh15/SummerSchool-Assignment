{
  "nbformat": 4,
  "nbformat_minor": 0,
  "metadata": {
    "colab": {
      "name": "Py & Git assign - CFI Summer school.ipynb",
      "provenance": []
    },
    "kernelspec": {
      "name": "python3",
      "display_name": "Python 3"
    },
    "language_info": {
      "name": "python"
    }
  },
  "cells": [
    {
      "cell_type": "code",
      "metadata": {
        "colab": {
          "base_uri": "https://localhost:8080/"
        },
        "id": "JcPRu5QaoQe6",
        "outputId": "db68bcfe-74e1-4582-9030-b6baa08b329c"
      },
      "source": [
        "#Question 1\n",
        "import numpy as np\n",
        "n=10\n",
        "y_hat = np.random.rand(n)\n",
        "y = np.random.randint(2, size=n)\n",
        "O = (-1/n)*(np.sum((y*(np.log(y_hat)/np.log(2))) + ((1-y)*(np.log(1-y_hat)/np.log(2)))))\n",
        "print(O)"
      ],
      "execution_count": 36,
      "outputs": [
        {
          "output_type": "stream",
          "text": [
            "0.7605951215371219\n"
          ],
          "name": "stdout"
        }
      ]
    },
    {
      "cell_type": "code",
      "metadata": {
        "colab": {
          "base_uri": "https://localhost:8080/"
        },
        "id": "9nki0saOoyzn",
        "outputId": "0db2492c-2c94-40fa-dd78-8fd0b2c8c66d"
      },
      "source": [
        "# Question 2\n",
        "class Q2:\n",
        "\n",
        "  def __init__(self, numbers, target):\n",
        "    self.numbers = numbers\n",
        "    self.target = target\n",
        "\n",
        "  def findPairs(self):\n",
        "    output = {}\n",
        "    count = 1\n",
        "    for i in range(len(self.numbers)-1):\n",
        "      for j in range(i,len(self.numbers)):\n",
        "        if (self.numbers[i] + self.numbers[j] == self.target):\n",
        "          output[count] = [i,j]\n",
        "          if i != j:\n",
        "            output[count+1] = [j,i]\n",
        "            count+=2\n",
        "          else:\n",
        "            count+=1\n",
        "    print(output)\n",
        "\n",
        "#Input numbers and target here\n",
        "numbers = [10,20,10,40,50,60,70]\n",
        "target = 50\n",
        "\n",
        "abc = Q2(numbers,target)\n",
        "abc.findPairs()"
      ],
      "execution_count": 33,
      "outputs": [
        {
          "output_type": "stream",
          "text": [
            "{1: [0, 3], 2: [3, 0], 3: [2, 3], 4: [3, 2]}\n"
          ],
          "name": "stdout"
        }
      ]
    },
    {
      "cell_type": "code",
      "metadata": {
        "id": "AwWwKb0yy3Dq"
      },
      "source": [
        ""
      ],
      "execution_count": null,
      "outputs": []
    }
  ]
}